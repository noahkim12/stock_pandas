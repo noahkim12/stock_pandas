{
 "cells": [
  {
   "cell_type": "markdown",
   "id": "8f28c982",
   "metadata": {},
   "source": [
    "<span style=\"font-weight: bold; font-size:30px; color:#2196F3\">2-3 데이터 타입</span><br><br>파이썬에서 정수(int), 실수(float), 문자열(str)과 같은 기본 데이터 타입이 존재한다. 기본 데이터 타입은 사용하기 편리하지만, 항상 데이터를 넉넉한 공간에 저장하기 때문에 메모리 및 보조 저장 장치의 공간을 효율적으로 사용할 수 없다. 공간을 많이 차지하기 때문에 대용량의 데이터를 처리하는 시간이 오래 걸릴 수도 있다.<br>정보를 표현하는 최소 단위를 비트(bit)라고 한다. 컴퓨터는 1비트로 0과 1을 구분할 수 있어서 총 $2^1$개의 숫자를 표현할 수 있다. 2비트를 사용한다면, $00_2$, $01_2$, $10_2$, $11_2$을 구분할 수 있으니 $2^2$개, 16비트를 사용한다면 $2^16$개의 숫자를 구분할 수 있다. 2비트로 양수는 0부터 3까지 네 개의 숫자를 표현할 수 있으며 음수는 -2부터 1까지 네 개의 숫자를 표현할 수 있다.<br>연필 12자루를 한 다스로 표현하는 것처럼, 8비트를 1바이트(byte)라고 부른다. 비트와 바이트뿐만 아니라 킬로바이트(KB), 메가바이트(MB), 기가바이트(GB), 테라바이트(TB) 등의 단위가 존재한다. 1,024($2^10$)바이트는 1KB, 1,024KB는 1MB, 1,024MB는 1GB, 1,024GB는 1TB이다. 예를 들어 보자. PC의 메모리가 1GB일 때 64비트 데이터 타입은 몇 개를 저장할 수 있을까? 1GB는 $2^10$MB이며 $2^20$KB이고 %2^30%바이트라서 %2^30%X8비트입니다. 따라서 64비트 데이터는 $2^30$X8/64개를 사용할 수 있다. 16비트 타입을 사용한다면 64비트 보다 더 많은 데이터를 저장할 수 있다. 이러한 이유로 대용량의 데이터를 다룰 때는 가능하면 작은 공간에 저장하는 것이 좋다."
   ]
  },
  {
   "cell_type": "markdown",
   "id": "ab55a866",
   "metadata": {},
   "source": [
    "<span style=\"font-weight: bold; font-size:20px; color:#2196F3\">표 2.3.1 넘파이 주요 데이터 타입</span> \n",
    "<img src=\"numpy_table.png\" width=\"70%\">"
   ]
  },
  {
   "cell_type": "markdown",
   "id": "1907d633",
   "metadata": {},
   "source": [
    "표 2.3.1을 참고하면 넘파이는 파이썬 기본 타입보다 다양한 데이터 타입을 제공하는 것을 알 수 있다. int8과 uint8은 8비트로 숫자를 표현하는 것은 같지만, int8은 음수까지 표현할 수 있으며, uint8은 양수만을 표현하는 대신 int8보다 더 큰 숫자를 포함할 수 있다. 실수로 제한된 bit로 무한대의 소수를 표현해야 하므로 float16보다 float64이 더 높은 정밀도 (적은 오차)로 값을 표현할 수 있다. 축약어에는 데이터 타입을 구분하는 고유 문자(i/u/f/c)와 데이터 타입의 크기가 방트 단위로 조합돼 있다.<br>array 함수에서 dtype 옵션은 생성할 ndarray의 데이터 타입을 지정하는 경우에 사용한다. 데이터의 범위가 1~3이라면, uint64보다, int8이나 unit8을 사용하는 것이 메모리 관리 측면에서 좋다. ndarray 객체의 dtype으로 데이터 타입을 확인할 수 있다. dtype안의 kind와 alignment 속성을 사용하면 축약어 정보도 확인할 수 있다."
   ]
  },
  {
   "cell_type": "code",
   "execution_count": 8,
   "id": "d0040ff1",
   "metadata": {},
   "outputs": [
    {
     "name": "stdout",
     "output_type": "stream",
     "text": [
      "uint8\n",
      "u\n",
      "1\n"
     ]
    }
   ],
   "source": [
    "import numpy as np\n",
    "\n",
    "arr = np.array([1, 2, 3], dtype=np.uint8)\n",
    "print(arr.dtype)\n",
    "print(arr.dtype.kind)\n",
    "print(arr.dtype.alignment)"
   ]
  },
  {
   "cell_type": "markdown",
   "id": "3a6a7f28",
   "metadata": {},
   "source": [
    "astype 메서드를 사용해서 기존의 ndarray를 다른 타입으로 변경할 수도 있다. astype 메서드는 새로운 ndarray 객체를 리턴하므로 결과를 변수에 바인딩해서 사용해야 한다."
   ]
  },
  {
   "cell_type": "code",
   "execution_count": 10,
   "id": "5c396ddf",
   "metadata": {},
   "outputs": [
    {
     "name": "stdout",
     "output_type": "stream",
     "text": [
      "int8\n"
     ]
    }
   ],
   "source": [
    "arr = arr.astype('int8')\n",
    "print(arr.dtype)"
   ]
  },
  {
   "cell_type": "markdown",
   "id": "d4c87972",
   "metadata": {},
   "source": [
    "\n"
   ]
  },
  {
   "cell_type": "markdown",
   "id": "de4f222d",
   "metadata": {},
   "source": [
    "데이터 타입을 변경할 때는 데이터의 범위에 주의를 기울여야 한다. a에는 0과 255가 부호 없는 8비트로 저장돼 있다. 이를 int8로 변경해서 b에 바인딩한다."
   ]
  },
  {
   "cell_type": "code",
   "execution_count": 12,
   "id": "74ac7c60",
   "metadata": {},
   "outputs": [
    {
     "name": "stdout",
     "output_type": "stream",
     "text": [
      "[  0 255]\n",
      "[ 0 -1]\n"
     ]
    }
   ],
   "source": [
    "a = np.array([0, 255], dtype=np.uint8)\n",
    "b = a.astype('int8')\n",
    "print(a)\n",
    "print(b)"
   ]
  },
  {
   "cell_type": "markdown",
   "id": "d3a4aeaf",
   "metadata": {},
   "source": [
    "출력되는 결과를 참고하면 b의 값이 이상하다. b의 데이터 타입 int8은 -128부터 127까지만 표현할 수 있기 때문에 255를 표현할 수가 없는 것이다. 그리하여 의도치 않은 값으로 변경돼 버렸다. 메모리를 효율적으로 사용하기 위해 형 변환하는데, 의도치 않은 결과가 나오면 안된다. 데이터 타입을 변경할 때 데이터의 범위에 주의해야 한다."
   ]
  },
  {
   "cell_type": "markdown",
   "id": "1d0792b9",
   "metadata": {},
   "source": [
    "\n"
   ]
  },
  {
   "cell_type": "markdown",
   "id": "02fa9d1a",
   "metadata": {},
   "source": [
    "앞서 높은 비트를 사용하는 실수 데이터 타입이 더 높은 정밀도를 갖는다고 언급했다. 16비트 실수와 32비트 실수로 1.333333을 표현해 보겠다. a16과 a32는 한 개의 데이터를 갖는 ndarray이다."
   ]
  },
  {
   "cell_type": "code",
   "execution_count": 13,
   "id": "0ebb527f",
   "metadata": {},
   "outputs": [
    {
     "name": "stdout",
     "output_type": "stream",
     "text": [
      "[1.333]\n",
      "[1.333333]\n"
     ]
    }
   ],
   "source": [
    "a16 = np.array([1.333333], dtype=np.float16)\n",
    "a32 = np.array([1.333333], dtype=np.float32)\n",
    "print(a16)\n",
    "print(a32)"
   ]
  },
  {
   "cell_type": "markdown",
   "id": "0f826a7c",
   "metadata": {},
   "source": [
    "16비트는 표현할 수 있는 범위가 32비트 보다 작아서 1.333333이라는 값을 제대로 표현하지 못했음을 알 수 있다. 높은 비트로 데이터를 표현하는 것이 정확하지만, 저장 공간까지 고려해서 적절한 타입을 선택해야 한다."
   ]
  },
  {
   "cell_type": "markdown",
   "id": "845820c7",
   "metadata": {},
   "source": [
    "\n"
   ]
  },
  {
   "cell_type": "markdown",
   "id": "7dbec624",
   "metadata": {},
   "source": [
    "16비트와 32비트 1.0에 나누기 연산을 적용해보자. 이론적으론느 0.3333333...의 무한 소수가 출력돼야 한다."
   ]
  },
  {
   "cell_type": "code",
   "execution_count": 14,
   "id": "9d37258e",
   "metadata": {},
   "outputs": [
    {
     "name": "stdout",
     "output_type": "stream",
     "text": [
      "[0.3333]\n",
      "[0.33333334]\n"
     ]
    }
   ],
   "source": [
    "a16 = np.array([1.0], dtype=np.float16)\n",
    "a32 = np.array([1.0], dtype=np.float32)\n",
    "print(a16/3)\n",
    "print(a32/3)"
   ]
  },
  {
   "cell_type": "markdown",
   "id": "55efc69e",
   "metadata": {},
   "source": [
    "제한된 비트로 값을 표현하다 보니 16비트는 0.3333까지 출력됐으며, 32비트는 약간의 에러가 포함돼서 0.33333334가 출력됐다. 데이터의 정확도가 중요한 연산의 경우에는 실수 연산을 최소화하는 것이 중요함을 알 수 있다."
   ]
  },
  {
   "cell_type": "markdown",
   "id": "211930ac",
   "metadata": {},
   "source": [
    "\n"
   ]
  },
  {
   "cell_type": "markdown",
   "id": "23b62023",
   "metadata": {},
   "source": [
    "넘파이에는 무한대와 결측치를 표현하는 특수한 데이터가 존재한다. nan은 Not-a-Number의 약자로 숫자가 아닌 값 혹은 정의되지 않은 숫자를 의미한다. inf 혹은 -inf는 무한대의 숫자를 뜻한다."
   ]
  },
  {
   "cell_type": "code",
   "execution_count": 15,
   "id": "91650ad1",
   "metadata": {},
   "outputs": [
    {
     "name": "stdout",
     "output_type": "stream",
     "text": [
      "nan <class 'float'>\n",
      "nan <class 'float'>\n",
      "nan <class 'float'>\n"
     ]
    }
   ],
   "source": [
    "print(np.nan, type(np.nan))\n",
    "print(np.nan, type(np.inf))\n",
    "print(-np.nan, type(-np.inf))"
   ]
  },
  {
   "cell_type": "markdown",
   "id": "9325fde2",
   "metadata": {},
   "source": [
    "출력되는 결과를 참고하면 세 개의 특수한 값은 float 형임을 알 수 있다."
   ]
  },
  {
   "cell_type": "markdown",
   "id": "a9ee8246",
   "metadata": {},
   "source": [
    "\n"
   ]
  },
  {
   "cell_type": "markdown",
   "id": "12a0ed29",
   "metadata": {},
   "source": [
    "ndarray를 0으로 나누면 어떻게 될까? 에러가 발생할까?"
   ]
  },
  {
   "cell_type": "code",
   "execution_count": 24,
   "id": "f8e2aec1",
   "metadata": {},
   "outputs": [
    {
     "name": "stdout",
     "output_type": "stream",
     "text": [
      "[-inf  inf -inf]\n"
     ]
    },
    {
     "name": "stderr",
     "output_type": "stream",
     "text": [
      "/tmp/ipykernel_3745240/4227457732.py:2: RuntimeWarning: divide by zero encountered in true_divide\n",
      "  print(arr/0)\n"
     ]
    }
   ],
   "source": [
    "arr = np.array([-1, 2, -3])\n",
    "print(arr/0)"
   ]
  },
  {
   "cell_type": "markdown",
   "id": "22dca51f",
   "metadata": {},
   "source": [
    "실행해 보니 경고 메세지와 함께 inf가 출력된다. 수학에서 0으로 나누기는 정의되어 있지 않기 떄문에 경고가 발생하며 결괏값 자체는 극한 개념을 사용해서 무한대로 계산된다."
   ]
  },
  {
   "cell_type": "markdown",
   "id": "e45405c4",
   "metadata": {},
   "source": [
    "\n"
   ]
  },
  {
   "cell_type": "markdown",
   "id": "ab2412ce",
   "metadata": {},
   "source": [
    "nan과 inf는 실수 타입이기 때문에 사칙연산을 적용할 수 있다. 무한대의 수에 특정 값을 더한다면 여전히 무한대 값을 갖는다. 결측값 nan과의 연산은 어떻게 동작할까?"
   ]
  },
  {
   "cell_type": "code",
   "execution_count": 25,
   "id": "2f8b47f8",
   "metadata": {},
   "outputs": [
    {
     "name": "stdout",
     "output_type": "stream",
     "text": [
      "[nan nan nan]\n",
      "[inf inf inf]\n"
     ]
    }
   ],
   "source": [
    "arr = np.array([-1, 2, -3])\n",
    "print(arr + np.nan)\n",
    "print(arr + np.inf)"
   ]
  },
  {
   "cell_type": "markdown",
   "id": "bf44e51e",
   "metadata": {},
   "source": [
    "결과를 참고하면 결측치에 숫자를 더하면 넘파이는 결측값을 반환한다. nan과 inf가 문자열 혹은 다른 데이터 타입이었다면 사칙연산을 처리하기 어려웠을 것이다. 넘파이는 이를 실수 타입으로 정의해서 내부적으로 데이터의 연산을 쉽게 처리한다."
   ]
  },
  {
   "cell_type": "markdown",
   "id": "ae2c7394",
   "metadata": {},
   "source": [
    "\n"
   ]
  },
  {
   "cell_type": "markdown",
   "id": "c36fd16b",
   "metadata": {},
   "source": [
    "<span style=\"font-weight: bold; font-size:20px; color:Gray\">출처 : 금융 데이터 분석을 위한 파이썬 판다스</span>"
   ]
  },
  {
   "cell_type": "markdown",
   "id": "57922f2f",
   "metadata": {},
   "source": [
    "\n"
   ]
  }
 ],
 "metadata": {
  "kernelspec": {
   "display_name": "Python 3 (ipykernel)",
   "language": "python",
   "name": "python3"
  },
  "language_info": {
   "codemirror_mode": {
    "name": "ipython",
    "version": 3
   },
   "file_extension": ".py",
   "mimetype": "text/x-python",
   "name": "python",
   "nbconvert_exporter": "python",
   "pygments_lexer": "ipython3",
   "version": "3.9.13"
  },
  "toc": {
   "base_numbering": 1,
   "nav_menu": {},
   "number_sections": true,
   "sideBar": true,
   "skip_h1_title": false,
   "title_cell": "Table of Contents",
   "title_sidebar": "Contents",
   "toc_cell": false,
   "toc_position": {
    "height": "calc(100% - 180px)",
    "left": "10px",
    "top": "150px",
    "width": "341.458px"
   },
   "toc_section_display": true,
   "toc_window_display": true
  }
 },
 "nbformat": 4,
 "nbformat_minor": 5
}
