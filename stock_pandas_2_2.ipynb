{
 "cells": [
  {
   "cell_type": "markdown",
   "id": "8f28c982",
   "metadata": {},
   "source": [
    "<span style=\"font-weight: bold; font-size:30px; color:#2196F3\">2-2 ndarray</span><br><br>이번 절에서는 넘파이의 핵심 자료구조인 ndarray 객체에 대해 좀 더 자세히 공부해 보겠다. 파이썬에 리스트, 튜플, 딕셔너리와 같은 기본 데이터 타입이 있는 것처럼 넘파이에는 다차원 배열을 위한 ndarray 클래스(타입)을 제공한다. 1차원 리스트를 넘파이의 array 함수에 전달하면 쉽게 ndarray 객체로 변환할 수 있다. 범용적인 용도로 사용되는 파이썬 리스트 타입을 행렬과 다차원 배열에 최적화된 ndarray 타입으로 변환하는 것이다."
   ]
  },
  {
   "cell_type": "code",
   "execution_count": 2,
   "id": "d0040ff1",
   "metadata": {},
   "outputs": [
    {
     "name": "stdout",
     "output_type": "stream",
     "text": [
      "[1 2 3 4]\n",
      "<class 'numpy.ndarray'>\n"
     ]
    }
   ],
   "source": [
    "import numpy as np\n",
    "\n",
    "data1 = [1, 2, 3, 4]\n",
    "\n",
    "arr1 = np.array(data1)\n",
    "print(arr1)\n",
    "print(type(arr1))"
   ]
  },
  {
   "cell_type": "markdown",
   "id": "d66b23e3",
   "metadata": {},
   "source": [
    "ndarray 객체는 리스트와 달리 데이터와 데이터 사이에 콤마 구분 기호 없이 출력된다. type을 출력한 결과를 참고하면 arr1은 ndarray 객체를 가리키고 있는 것을 알 수 있다."
   ]
  },
  {
   "cell_type": "markdown",
   "id": "db7fadb6",
   "metadata": {},
   "source": [
    "\n"
   ]
  },
  {
   "cell_type": "markdown",
   "id": "de4f222d",
   "metadata": {},
   "source": [
    "2차원 리스트 또한 array함수에 전달하면 ndarray 객체로 변환된다."
   ]
  },
  {
   "cell_type": "code",
   "execution_count": 3,
   "id": "74ac7c60",
   "metadata": {},
   "outputs": [
    {
     "name": "stdout",
     "output_type": "stream",
     "text": [
      "[[1 2]\n",
      " [3 4]]\n",
      "<class 'numpy.ndarray'>\n"
     ]
    }
   ],
   "source": [
    "data2 = [\n",
    "    [1, 2],\n",
    "    [3, 4]\n",
    "]\n",
    "\n",
    "arr2 = np.array(data2)\n",
    "print(arr2)\n",
    "print(type(arr2))"
   ]
  },
  {
   "cell_type": "markdown",
   "id": "d3a4aeaf",
   "metadata": {},
   "source": [
    "이차원 ndarray가 바인딩 된 arr2를 살펴보면, 행과 열이 모두 콤마 없이 표현됐다. 이차원 데이터는 ndarray 안에 다시 ndarray가 들어 있다. arr2[0]은 첫 번째 행을 가리키며, 저장된 [1 2]는 콤마 없이 표현된 것으로 미루어 ndarray임을 알 수 있다."
   ]
  },
  {
   "cell_type": "markdown",
   "id": "04179d56",
   "metadata": {},
   "source": [
    "\n"
   ]
  },
  {
   "cell_type": "markdown",
   "id": "02fa9d1a",
   "metadata": {},
   "source": [
    "ndarray 객체의 인스턴스 변수를 사용해서 저장된 데이터의 정보를 조회할 수 있다. shape은 ndarray의 크기 정보를, ndim은 차원 정보, dtype은 데이터 타입을 표현한다."
   ]
  },
  {
   "cell_type": "code",
   "execution_count": 11,
   "id": "0ebb527f",
   "metadata": {},
   "outputs": [
    {
     "name": "stdout",
     "output_type": "stream",
     "text": [
      "(2, 2)\n",
      "2\n",
      "int64\n"
     ]
    }
   ],
   "source": [
    "print(arr2.shape)\n",
    "print(arr2.ndim)\n",
    "print(arr2.dtype)"
   ]
  },
  {
   "cell_type": "markdown",
   "id": "0f826a7c",
   "metadata": {},
   "source": [
    "shape에 저장된 튜플은 0번 인덱스에 로우의 길이, 1번 인덱스에 컬럼(column)의 길이 정보가 들어 있다. (2, 2)는 2행 2열로 데이터가 저장돼 있다는 뜻이 되겠다. ndim은 데이터의 차원을 의미한다. arr2는 가로축과 세로축이 있는 2차원 데이터이므로 2가 출력됐다. dtype의 int32는 ndarray에 저장된 각각의 데이터가 32비트로 표현할 수 있는 정수(integer)라는 의미이다."
   ]
  },
  {
   "cell_type": "markdown",
   "id": "845820c7",
   "metadata": {},
   "source": [
    "\n"
   ]
  },
  {
   "cell_type": "markdown",
   "id": "7dbec624",
   "metadata": {},
   "source": [
    "arr1에 저장된 데이터의 shape도 출력해보자."
   ]
  },
  {
   "cell_type": "code",
   "execution_count": 12,
   "id": "b48c4a7f",
   "metadata": {},
   "outputs": [
    {
     "name": "stdout",
     "output_type": "stream",
     "text": [
      "(4,)\n"
     ]
    }
   ],
   "source": [
    "print(arr1.shape)"
   ]
  },
  {
   "cell_type": "markdown",
   "id": "2e3fc239",
   "metadata": {},
   "source": [
    "1차원 데이터라 하나의 값이 들어있을 줄 알았는데 튜플로 값이 저장돼 있다. 튜플에 하나의 값이 들어 있을 때는 1차원 데이터를 뜻하며, 첫 번째 값이 로우의 길이가 아닌 데이터의 길이이다."
   ]
  },
  {
   "cell_type": "code",
   "execution_count": 17,
   "id": "a1622454",
   "metadata": {},
   "outputs": [
    {
     "name": "stdout",
     "output_type": "stream",
     "text": [
      "4\n"
     ]
    }
   ],
   "source": [
    "print(arr1[:])"
   ]
  },
  {
   "cell_type": "markdown",
   "id": "211930ac",
   "metadata": {},
   "source": [
    "\n"
   ]
  },
  {
   "cell_type": "markdown",
   "id": "23b62023",
   "metadata": {},
   "source": [
    "4행 1열로 저장된 2차원 데이터의 shape은 어떻게 출력되는지 확인해보자."
   ]
  },
  {
   "cell_type": "code",
   "execution_count": 18,
   "id": "91650ad1",
   "metadata": {},
   "outputs": [
    {
     "name": "stdout",
     "output_type": "stream",
     "text": [
      "(4, 1)\n"
     ]
    }
   ],
   "source": [
    "data = [\n",
    "    [1],\n",
    "    [2],\n",
    "    [3],\n",
    "    [4]\n",
    "]\n",
    "c = np.array(data)\n",
    "print(c.shape)"
   ]
  },
  {
   "cell_type": "markdown",
   "id": "9325fde2",
   "metadata": {},
   "source": [
    "shape은 로우의 길이와 컬럼의 길이가 저장된 튜플을 바인딩하고 있다. 이제는 shape만 보고 데이터의 형태를 구분할 수 있어야 한다."
   ]
  },
  {
   "cell_type": "markdown",
   "id": "8c446780",
   "metadata": {},
   "source": [
    "\n"
   ]
  },
  {
   "cell_type": "markdown",
   "id": "5968a734",
   "metadata": {},
   "source": [
    "넘파이는 특정 값으로 구성된 ndarray 객체를 생성하는 몇 가지 함수를 제공한다. 대표적으로 zeros와 ones 함수가 있다. zeros 함수는 이름에서도 알 수 있듯이 0으로 채워진 ndarray를 리턴하고, ones 함수는 1로 채워진 ndarray를 리턴한다."
   ]
  },
  {
   "cell_type": "code",
   "execution_count": 22,
   "id": "f8e2aec1",
   "metadata": {},
   "outputs": [
    {
     "name": "stdout",
     "output_type": "stream",
     "text": [
      "[0. 0. 0.]\n",
      "[1. 1. 1.]\n"
     ]
    }
   ],
   "source": [
    "print(np.zeros(3))\n",
    "print(np.ones(3))"
   ]
  },
  {
   "cell_type": "markdown",
   "id": "4c486b1d",
   "metadata": {},
   "source": [
    "zeros와 ones 함수는 기본적으로 float 타입으로 데이터를 저장한다. 아래 출력된 결과에서 소수점(dot)은 저장된 데이터가 float 타입임을 알려준다. dtype 속성을 사용해서 데이터의 타입을 확인할 수 있다."
   ]
  },
  {
   "cell_type": "markdown",
   "id": "e45405c4",
   "metadata": {},
   "source": [
    "\n"
   ]
  },
  {
   "cell_type": "markdown",
   "id": "ab2412ce",
   "metadata": {},
   "source": [
    "zeros와 ones 함수의 인자로 튜플을 전달하면 0 또는 1로 구성된 다차원 배열을 생성할 수 있다. 튜플의 첫 번째로는 로우의길이, 두 번째는 컬럼의 길이이다. 넘파이에서는 대부분의 경우 로우, 컬럼 순서로 값을 입력하니 기억해두면 좋다.다음 코드는 3행 4열 형태의 0으로 채워진 ndarray를 생성한다."
   ]
  },
  {
   "cell_type": "code",
   "execution_count": 24,
   "id": "2f8b47f8",
   "metadata": {},
   "outputs": [
    {
     "name": "stdout",
     "output_type": "stream",
     "text": [
      "[[0. 0. 0. 0.]\n",
      " [0. 0. 0. 0.]\n",
      " [0. 0. 0. 0.]]\n"
     ]
    }
   ],
   "source": [
    "size = (3, 4)\n",
    "print(np.zeros(size))"
   ]
  },
  {
   "cell_type": "code",
   "execution_count": 26,
   "id": "230171e6",
   "metadata": {},
   "outputs": [
    {
     "name": "stdout",
     "output_type": "stream",
     "text": [
      "[[0. 0. 0. 0.]\n",
      " [0. 0. 0. 0.]\n",
      " [0. 0. 0. 0.]]\n"
     ]
    }
   ],
   "source": [
    "print(np.zeros((3, 4)))"
   ]
  },
  {
   "cell_type": "markdown",
   "id": "bf44e51e",
   "metadata": {},
   "source": [
    "코드가 간단하니 한 줄로 표현할 수 있다. 함수를 호출하는 괄호와 튜플을 정의하는 괄호가 중첩되어 있어 낯설기는 하다."
   ]
  },
  {
   "cell_type": "markdown",
   "id": "27ba4b80",
   "metadata": {},
   "source": [
    "\n"
   ]
  },
  {
   "cell_type": "markdown",
   "id": "44b529a4",
   "metadata": {},
   "source": [
    "넘파이의 arrange 함수는 최대 세 개의 파라미터를 입력할 수 있으며, 지정된 범위의 규칙적인 숫자를 갖는 ndarray 객체를 반환한다. 하나의 파라미터를 입력하면 0부터 순차적으로 증가하는 숫자를 생성하며, 두 개를 사용하면 시작과 끝 범위를 표현해서 범위 내의 순차 증가하는 숫자를 만들 수 있다. 세 번째 파라미터는 증감폭을 의미한다. 파이썬 기본 문법의 range 함수와 비슷하지만 arrange 함수는 실수 범위도 생성할 수 있다."
   ]
  },
  {
   "cell_type": "code",
   "execution_count": 30,
   "id": "d58e0dac",
   "metadata": {},
   "outputs": [
    {
     "name": "stdout",
     "output_type": "stream",
     "text": [
      "[0 1 2 3 4]\n",
      "[1 2 3 4]\n",
      "[1 3]\n"
     ]
    }
   ],
   "source": [
    "print(np.arange(5))\n",
    "print(np.arange(1, 5))\n",
    "print(np.arange(1, 5, 2))"
   ]
  },
  {
   "cell_type": "markdown",
   "id": "39f4108a",
   "metadata": {},
   "source": [
    "라인1: 0부터 4까지의 데이터가 포함된 ndarray를 생성한다.\n",
    "라인2: 1부터 4까지의 데이터가 포함된 ndarray를 생성한다.\n",
    "라인3: 1부터 4까지 2씩 증가하는 데이터를 ndarray를 생성한다."
   ]
  },
  {
   "cell_type": "markdown",
   "id": "25cd6ed0",
   "metadata": {},
   "source": [
    "\n"
   ]
  },
  {
   "cell_type": "markdown",
   "id": "803ce4aa",
   "metadata": {},
   "source": [
    "넘파이는 배열의 형상(shape)을 변경할 수 있는 reshape 함수를 제공한다. 다음 예제와 같이 6개의 원소로 구성된 1차원 배열 ndarr1을 2행 3열의 ndarray로 변환한다."
   ]
  },
  {
   "cell_type": "code",
   "execution_count": 33,
   "id": "8eb2148c",
   "metadata": {},
   "outputs": [
    {
     "name": "stdout",
     "output_type": "stream",
     "text": [
      "[[0 1 2]\n",
      " [3 4 5]]\n"
     ]
    }
   ],
   "source": [
    "ndarr1 = np.arange(6)\n",
    "ndarr2 = ndarr1.reshape(2, 3)\n",
    "print(ndarr2)"
   ]
  },
  {
   "cell_type": "markdown",
   "id": "8a152917",
   "metadata": {},
   "source": [
    "ndarr2를 출력해보면 2차원 배열로 변경된 것을 확인할 수 있다. <br>\n",
    "참고로 reshape 메서드의 행과 열의 개수는 원본 데이터를 고려해서 입력해야 한다. 6개의 데이터가 담긴 ndarr1을 reshape(4, 4)로 변환을 시도하면 데이터가 부족해서 에러가 발생한다."
   ]
  },
  {
   "cell_type": "markdown",
   "id": "ae2c7394",
   "metadata": {},
   "source": [
    "\n"
   ]
  },
  {
   "cell_type": "markdown",
   "id": "c36fd16b",
   "metadata": {},
   "source": [
    "<span style=\"font-weight: bold; font-size:20px; color:Gray\">출처 : 금융 데이터 분석을 위한 파이썬 판다스</span>"
   ]
  },
  {
   "cell_type": "markdown",
   "id": "57922f2f",
   "metadata": {},
   "source": [
    "\n"
   ]
  }
 ],
 "metadata": {
  "kernelspec": {
   "display_name": "Python 3 (ipykernel)",
   "language": "python",
   "name": "python3"
  },
  "language_info": {
   "codemirror_mode": {
    "name": "ipython",
    "version": 3
   },
   "file_extension": ".py",
   "mimetype": "text/x-python",
   "name": "python",
   "nbconvert_exporter": "python",
   "pygments_lexer": "ipython3",
   "version": "3.9.13"
  },
  "toc": {
   "base_numbering": 1,
   "nav_menu": {},
   "number_sections": true,
   "sideBar": true,
   "skip_h1_title": false,
   "title_cell": "Table of Contents",
   "title_sidebar": "Contents",
   "toc_cell": false,
   "toc_position": {},
   "toc_section_display": true,
   "toc_window_display": true
  }
 },
 "nbformat": 4,
 "nbformat_minor": 5
}
